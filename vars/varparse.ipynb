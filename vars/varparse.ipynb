{
 "cells": [
  {
   "cell_type": "code",
   "execution_count": 2,
   "metadata": {},
   "outputs": [],
   "source": [
    "import sys\n",
    "import os\n",
    "import re"
   ]
  },
  {
   "cell_type": "code",
   "execution_count": 3,
   "metadata": {},
   "outputs": [
    {
     "name": "stdout",
     "output_type": "stream",
     "text": [
      "Games Won\n",
      "Touchdowns Rushing\n"
     ]
    }
   ],
   "source": [
    "# Read in the file names var_names.txt and parse each line into an ordered dict\n",
    "\n",
    "def read_var_names():\n",
    "    var_names = {}\n",
    "    with open(\"var_names.txt\", \"r\") as f:\n",
    "        for line in f:\n",
    "            line = line.strip()\n",
    "            parts = line.split(\"=\")\n",
    "            if len(parts) != 2:\n",
    "                continue\n",
    "            match = re.search(r\"\\[(\\d+)\\]\", parts[0])\n",
    "            var_name = None\n",
    "            if match:\n",
    "                var_name = parts[1].split(\"-\")[0].strip().replace('\"', '')\n",
    "                #print (match.group(1), var_name)\n",
    "            if var_name is not None:\n",
    "                var_names[int(match.group(1))] = var_name\n",
    "    return var_names\n",
    "\n",
    "def budVarNumToName(varNum):\n",
    "    var_names = read_var_names()\n",
    "    return var_names[varNum]    \n",
    "\n",
    "# Print out each key value pair in the ordered dict\n",
    "def print_var_names(var_names):\n",
    "    for key, value in var_names.items():\n",
    "        print(key, value)\n",
    "        \n",
    "#print_var_names(read_var_names())\n",
    "\n",
    "var_names = read_var_names()\n",
    "\n",
    "#print(var_names)\n",
    "\n",
    "print(budVarNumToName(1))\n",
    "print(budVarNumToName(37))\n",
    "    "
   ]
  },
  {
   "cell_type": "code",
   "execution_count": null,
   "metadata": {},
   "outputs": [],
   "source": []
  },
  {
   "cell_type": "code",
   "execution_count": 38,
   "metadata": {},
   "outputs": [
    {
     "name": "stdout",
     "output_type": "stream",
     "text": [
      "[0, 0, 3, 4, 5, 6, 7, 0, 8, 0, 10, 11, 9, 0, 12, 13, 14, 16, 17, 18, 19, 20, 21, 22, 23, 24, 25, 26, 27, 28, 29, 30, 31, 32, 33, 34, 35, 99, 36, 37, 38, 39, 40, 0, 41, 43, 44, 45, 46, 47, 48, 49, 0, 50, 0, 52, 53, 51, 0, 54, 55, 56, 57, 58, 60, 61, 62, 63, 64, 65, 66, 67, 68, 69, 70]\n"
     ]
    }
   ],
   "source": [
    "# Read in the file var_order.txt and parse each line, saving the integer at the start in a list\n",
    "def read_var_order():\n",
    "    var_order = []\n",
    "    with open(\"var_order.txt\", \"r\") as f:\n",
    "        for line in f:\n",
    "            line = line.strip()\n",
    "            match = re.search(r\"(\\d+)\", line)\n",
    "            if match:\n",
    "                var_order.append(int(match.group(1)))\n",
    "    return var_order\n",
    "\n",
    "var_order = read_var_order()\n",
    "print(var_order)"
   ]
  },
  {
   "cell_type": "code",
   "execution_count": 4,
   "metadata": {},
   "outputs": [
    {
     "name": "stdout",
     "output_type": "stream",
     "text": [
      "[None, 'GAMES ( W L T)', 'FIRST DOWNS', 'Rushing', 'Passing', 'Penalty', 'YDS GAINED (tot)', 'Avg per Game', 'RUSHING (net)', 'Avg per Game', 'Rushes', 'Yards per Rush', 'PASSING (net)', 'Avg per Game', 'Attempts', 'Completions', 'Completion Pct', 'Yards Gained', 'Sacked', 'Yards Lost', 'Had Intercepted', 'Yards Opp Ret', 'Opp TDs on Int', 'PUNTS', 'Avg Yards', 'PUNT RETURNS', 'Avg Return', 'Returned for TD', 'KICKOFF RETURNS', 'Avg Return', 'Returned for TD', 'PENALTIES', 'Yards Penalized', 'FUMBLES BY', 'Fumbles Lost', 'Opp Fumbles', 'Opp Fumbles Lost', 'POSS. TIME (avg)', 'TOUCHDOWNS', 'Rushing', 'Passing', 'Returns', 'EXTRA POINT KICKS', '2-PT CONVERSIONS', 'FIELD GOALS MADE/ATTEMPTED', 'POINTS SCORED', None, 'POINTS ALLOWED', 'OPP FIRST DOWNS', 'Rushing', 'Passing', 'Penalty', 'OPP YARDS GAINED', 'Avg per Game', 'OPP RUSHING (net)', 'Avg per Game', 'Rushes', 'Yards per Rush', 'OPP PASSING (net)', 'Avg per Game', 'Pass Attempts', 'Pass Completions', 'Completion Pct', 'Yards Gained', 'Sacked', 'Yards Lost', 'INTERCEPTED BY', 'Yards Returned', 'Returned for TD', 'OPP PUNT RETURNS', 'Avg Return', 'Returned for TD', 'OPP KICKOFF RETURNS', 'Avg Return', 'Returned for TD', 'OPP TOUCHDOWNS', 'Rushing', 'Passing', 'Returns']\n"
     ]
    }
   ],
   "source": [
    "# Create a function to take a string and return up to the first number\n",
    "def get_var_name(var_name):\n",
    "    match = re.search(r\"(\\d+)\", var_name[1:])\n",
    "    if match:\n",
    "        return var_name[:match.start()]\n",
    "\n",
    "# Read in the file ../2024/Week01/entirestats.txt line by line\n",
    "# For each line, split it by the comma and print out the value of the nth element in the list\n",
    "def read_vars_from_stats():\n",
    "    var_names = []\n",
    "    page_count = 0\n",
    "    with open(\"../stats/2024/Week01/entirestats.txt\", \"r\") as f:\n",
    "        for line in f:\n",
    "            if len(line.strip()) < 10:\n",
    "                continue\n",
    "            \n",
    "            #print(len(line), line)\n",
    "            line = line.strip()\n",
    "            if line.startswith(\"WEEK\"):\n",
    "                page_count += 1\n",
    "                if page_count > 1:\n",
    "                    break\n",
    "                continue\n",
    "            \n",
    "            var_names.append(get_var_name(line))\n",
    "            \n",
    "            #if line.startswith(\"OFFENSE\") or line.startswith(\"DEFENSE\"):\n",
    "            #    continue\n",
    "            #print(get_var_name(line))\n",
    "    return var_names\n",
    "                \n",
    "stat_file_var_names = read_vars_from_stats()\n",
    "\n",
    "print(stat_file_var_names)\n",
    "\n",
    "new_list = []\n",
    "index = 1\n",
    "for var_name in stat_file_var_names:\n",
    "    #print(index)\n",
    "    try:\n",
    "        if var_order[index-1] != 0:\n",
    "            new_list.append(var_name)\n",
    "    except:\n",
    "        pass\n",
    "    index += 1\n",
    "        \n",
    "\n",
    "stat_file_var_names = new_list\n",
    "\n",
    "index = 1\n",
    "index2 = 0\n",
    "for var_name in stat_file_var_names:\n",
    "    \n",
    "    if var_order[index-1] == 0:\n",
    "        index += 1\n",
    "        continue\n",
    "    print(var_order[index-1], index, var_names[index], '|', var_name)\n",
    "    \n",
    "    index += 1"
   ]
  },
  {
   "cell_type": "code",
   "execution_count": 11,
   "metadata": {},
   "outputs": [
    {
     "name": "stdout",
     "output_type": "stream",
     "text": [
      "['/home/jrseti/stats_stuff/stats/2024/stats.old/home/jrseti/stats_stuf']\n",
      "1\n",
      "Team:\ttat\n",
      "Wins\t/home/jrseti/stats_stuff/stats/2024/stats.old/home/jrseti/stats_stuf\n"
     ]
    },
    {
     "ename": "IndexError",
     "evalue": "list index out of range",
     "output_type": "error",
     "traceback": [
      "\u001b[0;31m---------------------------------------------------------------------------\u001b[0m",
      "\u001b[0;31mIndexError\u001b[0m                                Traceback (most recent call last)",
      "Cell \u001b[0;32mIn[11], line 87\u001b[0m\n\u001b[1;32m     83\u001b[0m             line_num \u001b[38;5;241m+\u001b[39m\u001b[38;5;241m=\u001b[39m \u001b[38;5;241m1\u001b[39m\n\u001b[1;32m     85\u001b[0m             \u001b[38;5;66;03m#print(line.strip())\u001b[39;00m\n\u001b[0;32m---> 87\u001b[0m \u001b[43mread_team_stats\u001b[49m\u001b[43m(\u001b[49m\u001b[38;5;241;43m2024\u001b[39;49m\u001b[43m,\u001b[49m\u001b[43m \u001b[49m\u001b[38;5;241;43m1\u001b[39;49m\u001b[43m,\u001b[49m\u001b[43m \u001b[49m\u001b[38;5;241;43m1\u001b[39;49m\u001b[43m)\u001b[49m\n",
      "Cell \u001b[0;32mIn[11], line 32\u001b[0m, in \u001b[0;36mread_team_stats\u001b[0;34m(year, week, team)\u001b[0m\n\u001b[1;32m     30\u001b[0m \u001b[38;5;28mprint\u001b[39m(\u001b[38;5;124mf\u001b[39m\u001b[38;5;124m\"\u001b[39m\u001b[38;5;124mTeam:\u001b[39m\u001b[38;5;130;01m\\t\u001b[39;00m\u001b[38;5;132;01m{\u001b[39;00mteam_name\u001b[38;5;132;01m}\u001b[39;00m\u001b[38;5;124m\"\u001b[39m)\n\u001b[1;32m     31\u001b[0m \u001b[38;5;28mprint\u001b[39m(\u001b[38;5;124mf\u001b[39m\u001b[38;5;124m\"\u001b[39m\u001b[38;5;124mWins\u001b[39m\u001b[38;5;130;01m\\t\u001b[39;00m\u001b[38;5;132;01m{\u001b[39;00mparts[\u001b[38;5;241m0\u001b[39m]\u001b[38;5;132;01m}\u001b[39;00m\u001b[38;5;124m\"\u001b[39m)\n\u001b[0;32m---> 32\u001b[0m \u001b[38;5;28mprint\u001b[39m(\u001b[38;5;124mf\u001b[39m\u001b[38;5;124m\"\u001b[39m\u001b[38;5;124mLosses:\u001b[39m\u001b[38;5;130;01m\\t\u001b[39;00m\u001b[38;5;132;01m{\u001b[39;00mparts[\u001b[38;5;241m1\u001b[39m]\u001b[38;5;132;01m}\u001b[39;00m\u001b[38;5;124m\"\u001b[39m)\n\u001b[1;32m     33\u001b[0m \u001b[38;5;28mprint\u001b[39m(\u001b[38;5;124mf\u001b[39m\u001b[38;5;124m\"\u001b[39m\u001b[38;5;124mTies:\u001b[39m\u001b[38;5;130;01m\\t\u001b[39;00m\u001b[38;5;132;01m{\u001b[39;00mparts[\u001b[38;5;241m2\u001b[39m]\u001b[38;5;132;01m}\u001b[39;00m\u001b[38;5;124m\"\u001b[39m)\n\u001b[1;32m     35\u001b[0m \u001b[38;5;28mprint\u001b[39m(\u001b[38;5;124mf\u001b[39m\u001b[38;5;124m\"\u001b[39m\u001b[38;5;124mWeek:\u001b[39m\u001b[38;5;130;01m\\t\u001b[39;00m\u001b[38;5;132;01m{\u001b[39;00mparts[\u001b[38;5;241m3\u001b[39m]\u001b[38;5;132;01m}\u001b[39;00m\u001b[38;5;124m\"\u001b[39m)\n",
      "\u001b[0;31mIndexError\u001b[0m: list index out of range"
     ]
    }
   ],
   "source": [
    "# Function to read in the stats file for the first team in a given week and print oput the var values\n",
    "def read_team_stats(year, week, team):\n",
    "    \n",
    "        # Open and read the stats file, skipping 224 lines per (week-1), get inly the first 7 lines\n",
    "    with open(f\"../stats/{year}/stats.txt\", \"r\") as f:\n",
    "        for i in range(224*(week-1)):\n",
    "            f.readline()\n",
    "        # Skip past team*7 lines to get to the desired team\n",
    "        for i in range((team-1)*7):\n",
    "            f.readline()\n",
    "            \n",
    "        line_num = 1\n",
    "        var_num = 3\n",
    "        for i in range(7):\n",
    "        \n",
    "            line = f.readline().strip()\n",
    "            \n",
    "            team_name = line[71:74]\n",
    "            \n",
    "            \n",
    "            line = line[:71].strip()\n",
    "            \n",
    "            #print(line)\n",
    "            parts = re.split(\"\\s+\", line)\n",
    "            parts[-1] = parts[-1][:-3]\n",
    "            print(parts)\n",
    "            print(line_num)\n",
    "            \n",
    "            if line_num == 1:\n",
    "                print(f\"Team:\\t{team_name}\")\n",
    "                print(f\"Wins\\t{parts[0]}\")\n",
    "                print(f\"Losses:\\t{parts[1]}\")\n",
    "                print(f\"Ties:\\t{parts[2]}\")\n",
    "                \n",
    "                print(f\"Week:\\t{parts[3]}\")\n",
    "                \n",
    "                print(f\"3 {var_names[3]}: {parts[3+1]}\") \n",
    "                print(f\"4 {var_names[4]}: {parts[4+1]}\")\n",
    "                print(f\"5 {var_names[5]}: {parts[5+1]}\")\n",
    "                print(f\"6 {var_names[6]}: {parts[6+1]}\")\n",
    "                print(f\"7 {var_names[7]}: {parts[7+1]}\")\n",
    "                print(f\"7 {var_names[7]} Avg: {int(float(parts[7+1])/float(week))}\")\n",
    "                print(f\"8 {var_names[8]}: {parts[8+1]}\")\n",
    "                print(f\"8 {var_names[8]} Avg: {int(float(parts[8+1])/float(week))}\")\n",
    "\n",
    "                print(f\"9 {var_names[9]}: {parts[9+1]}\")\n",
    "                print(f\"9 {var_names[9]} Avg: {int(float(parts[9+1])/float(week))}\")\n",
    "                var_num = 10\n",
    "            else:\n",
    "                x = 12\n",
    "                if line_num == 7:\n",
    "                    x = 4\n",
    "                next_is_avg = False\n",
    "                for i in range(x):\n",
    "                    #print(i)\n",
    "                    if var_num == 58:\n",
    "                        var_num += 1\n",
    "                   \n",
    "                    \n",
    "                    if next_is_avg == True:\n",
    "                        print(f\"{var_num}: {var_names[var_num]} Avg: {int(float(parts[i])/float(week))}\")\n",
    "                        next_is_avg = False\n",
    "                        var_num += 1\n",
    "                        continue\n",
    "                    print(f\"{var_num}: {var_names[var_num]}: {parts[i]}\")\n",
    "                    if var_num >= 49 and var_num <= 51:\n",
    "                        #print(f\"{var_num}: {var_names[var_num]} Avg: {int(float(parts[i])/float(week))}\")\n",
    "                        next_is_avg = True\n",
    "                    if next_is_avg == False:\n",
    "                        var_num += 1\n",
    "                \n",
    "                #for i in range(10):\n",
    "                #    print(f\"{var_num}: {var_names[var_num]}: {parts[var_num+1]}\")\n",
    "                #    if var_num == 7:\n",
    "                #        print(f\"{var_num}: {var_names[var_num]} Avg: {parts[var_num+1]}\")\n",
    "                 #       var_num += 1\n",
    "                #    elif var_num == 8:\n",
    "                #        print(f\"{var_num}: {var_names[var_num]} Avg: {parts[var_num+1]}\")\n",
    "                #    var_num += 1\n",
    "                 #   line_num += 1\n",
    "            #print(f\"Line {line_num}: {var_names[var_num]}: {parts[1]}\")\n",
    "            #var_num += 1\n",
    "            line_num += 1\n",
    "        \n",
    "            #print(line.strip())\n",
    "            \n",
    "read_team_stats(2024, 1, 1)"
   ]
  },
  {
   "cell_type": "code",
   "execution_count": null,
   "metadata": {},
   "outputs": [],
   "source": []
  }
 ],
 "metadata": {
  "kernelspec": {
   "display_name": "bud",
   "language": "python",
   "name": "python3"
  },
  "language_info": {
   "codemirror_mode": {
    "name": "ipython",
    "version": 3
   },
   "file_extension": ".py",
   "mimetype": "text/x-python",
   "name": "python",
   "nbconvert_exporter": "python",
   "pygments_lexer": "ipython3",
   "version": "3.8.10"
  }
 },
 "nbformat": 4,
 "nbformat_minor": 2
}
